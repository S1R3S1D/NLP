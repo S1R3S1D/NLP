{
  "nbformat": 4,
  "nbformat_minor": 0,
  "metadata": {
    "colab": {
      "name": "Spam_Classifier.ipynb",
      "provenance": [],
      "authorship_tag": "ABX9TyP7/JwzePahjm25TSZkBV7z",
      "include_colab_link": true
    },
    "kernelspec": {
      "name": "python3",
      "display_name": "Python 3"
    },
    "language_info": {
      "name": "python"
    },
    "accelerator": "GPU"
  },
  "cells": [
    {
      "cell_type": "markdown",
      "metadata": {
        "id": "view-in-github",
        "colab_type": "text"
      },
      "source": [
        "<a href=\"https://colab.research.google.com/github/S1R3S1D/NLP/blob/main/Spam_Classifier.ipynb\" target=\"_parent\"><img src=\"https://colab.research.google.com/assets/colab-badge.svg\" alt=\"Open In Colab\"/></a>"
      ]
    },
    {
      "cell_type": "code",
      "metadata": {
        "id": "Frzf4Bs3CcPl"
      },
      "source": [
        "#Importing the libraries\n",
        "import numpy as np\n",
        "import pandas as pd\n",
        "import seaborn\n",
        "import matplotlib.pyplot as plt\n",
        "from sklearn.model_selection import train_test_split\n",
        "import tensorflow as tf\n",
        "\n",
        "from tensorflow.keras.preprocessing.text import Tokenizer\n",
        "from tensorflow.keras.preprocessing.sequence import pad_sequences\n",
        "\n",
        "from tensorflow.keras.models import Sequential\n",
        "from tensorflow.keras.layers import Embedding, GlobalAveragePooling1D, Dense, Dropout, LSTM, Bidirectional"
      ],
      "execution_count": 6,
      "outputs": []
    },
    {
      "cell_type": "code",
      "metadata": {
        "id": "1lK-gaYBEIGi"
      },
      "source": [
        "#Creating the basic dataframe\n",
        "path = '/content/SMSSpamCollection'\n",
        "messages = pd.read_csv(path, sep='\\t', names = [\"label\", \"message\"])\n"
      ],
      "execution_count": 3,
      "outputs": []
    },
    {
      "cell_type": "code",
      "metadata": {
        "id": "2t_CpAi8FSmz"
      },
      "source": [
        "#Getting a description of the messagees dataset\n",
        "messages.groupby('label').describe().T"
      ],
      "execution_count": null,
      "outputs": []
    },
    {
      "cell_type": "code",
      "metadata": {
        "id": "81pIJBFgFn_4"
      },
      "source": [
        "#Separating the ham and spam messages and creating a separate dataframe\n",
        "ham_msgs = messages[messages.label == 'ham']\n",
        "spam_msgs = messages[messages.label == 'spam']"
      ],
      "execution_count": 5,
      "outputs": []
    },
    {
      "cell_type": "code",
      "metadata": {
        "colab": {
          "base_uri": "https://localhost:8080/",
          "height": 460
        },
        "id": "jwe3158hF-J1",
        "outputId": "3d850704-d794-4dff-e42d-ef20deec15e7"
      },
      "source": [
        "#Visualizing the number of spam and ham messages\n",
        "plt.figure(figsize=(8, 6))\n",
        "seaborn.countplot(messages.label)"
      ],
      "execution_count": 7,
      "outputs": [
        {
          "output_type": "stream",
          "name": "stderr",
          "text": [
            "/usr/local/lib/python3.7/dist-packages/seaborn/_decorators.py:43: FutureWarning: Pass the following variable as a keyword arg: x. From version 0.12, the only valid positional argument will be `data`, and passing other arguments without an explicit keyword will result in an error or misinterpretation.\n",
            "  FutureWarning\n"
          ]
        },
        {
          "output_type": "execute_result",
          "data": {
            "text/plain": [
              "<matplotlib.axes._subplots.AxesSubplot at 0x7fa5905ce510>"
            ]
          },
          "metadata": {},
          "execution_count": 7
        },
        {
          "output_type": "display_data",
          "data": {
            "image/png": "[encoded data removed]",
            "text/plain": [
              "<Figure size 576x432 with 1 Axes>"
            ]
          },
          "metadata": {
            "needs_background": "light"
          }
        }
      ]
    },
    {
      "cell_type": "code",
      "metadata": {
        "id": "EeaPcK9SHYAx"
      },
      "source": [
        "#Fixing Imbalanced data by downsampling\n",
        "ham_msg_df = ham_msgs.sample(n = len(spam_msgs))\n",
        "spam_msg_df = spam_msgs"
      ],
      "execution_count": 8,
      "outputs": []
    },
    {
      "cell_type": "code",
      "metadata": {
        "id": "AMsY_3o2JXC8"
      },
      "source": [
        "#Combined dataframe of the downsampled ham and spam data\n",
        "msg_df = ham_msg_df.append(spam_msg_df).reset_index(drop=True)"
      ],
      "execution_count": 10,
      "outputs": []
    },
    {
      "cell_type": "code",
      "metadata": {
        "colab": {
          "base_uri": "https://localhost:8080/",
          "height": 143
        },
        "id": "YPQmc2B5IGGL",
        "outputId": "2c615049-b4a1-491f-8ca1-3e73aaea23ff"
      },
      "source": [
        "#Getting the average length of the messages\n",
        "msg_df['text_length'] = msg_df['message'].apply(len)\n",
        "labels = msg_df.groupby('label').mean()\n",
        "labels"
      ],
      "execution_count": 12,
      "outputs": [
        {
          "output_type": "execute_result",
          "data": {
            "text/html": [
              "<div>\n",
              "<style scoped>\n",
              "    .dataframe tbody tr th:only-of-type {\n",
              "        vertical-align: middle;\n",
              "    }\n",
              "\n",
              "    .dataframe tbody tr th {\n",
              "        vertical-align: top;\n",
              "    }\n",
              "\n",
              "    .dataframe thead th {\n",
              "        text-align: right;\n",
              "    }\n",
              "</style>\n",
              "<table border=\"1\" class=\"dataframe\">\n",
              "  <thead>\n",
              "    <tr style=\"text-align: right;\">\n",
              "      <th></th>\n",
              "      <th>text_length</th>\n",
              "    </tr>\n",
              "    <tr>\n",
              "      <th>label</th>\n",
              "      <th></th>\n",
              "    </tr>\n",
              "  </thead>\n",
              "  <tbody>\n",
              "    <tr>\n",
              "      <th>ham</th>\n",
              "      <td>70.385542</td>\n",
              "    </tr>\n",
              "    <tr>\n",
              "      <th>spam</th>\n",
              "      <td>138.670683</td>\n",
              "    </tr>\n",
              "  </tbody>\n",
              "</table>\n",
              "</div>"
            ],
            "text/plain": [
              "       text_length\n",
              "label             \n",
              "ham      70.385542\n",
              "spam    138.670683"
            ]
          },
          "metadata": {},
          "execution_count": 12
        }
      ]
    },
    {
      "cell_type": "code",
      "metadata": {
        "id": "cRF2Zg6hJOOe"
      },
      "source": [
        "#Numeric labelling of Ham : 0 and Spam : 1\n",
        "msg_df['msg_type']= msg_df['label'].map({'ham': 0, 'spam': 1})\n",
        "msg_label = msg_df['msg_type'].values"
      ],
      "execution_count": 13,
      "outputs": []
    },
    {
      "cell_type": "code",
      "metadata": {
        "id": "yJaHoktDJwOt"
      },
      "source": [
        "#Splitting data into train and test datasets\n",
        "train_msg, test_msg, train_labels, test_labels = train_test_split(msg_df['message'], msg_label, test_size=0.2)"
      ],
      "execution_count": 15,
      "outputs": []
    },
    {
      "cell_type": "code",
      "metadata": {
        "id": "u-5IFsVmJ4lD"
      },
      "source": [
        "# Defining pre-processing hyperparameters\n",
        "max_len = 50 \n",
        "trunc_type = \"post\" \n",
        "padding_type = \"post\" \n",
        "oov_tok = \"<OOV>\" \n",
        "vocab_size = 500"
      ],
      "execution_count": 16,
      "outputs": []
    },
    {
      "cell_type": "code",
      "metadata": {
        "id": "7prOM0YZJ8-0"
      },
      "source": [
        "#Tokenizing the words\n",
        "tokenizer = Tokenizer(num_words = vocab_size, char_level=False, oov_token = oov_tok)\n",
        "tokenizer.fit_on_texts(train_msg)"
      ],
      "execution_count": 18,
      "outputs": []
    },
    {
      "cell_type": "code",
      "metadata": {
        "colab": {
          "base_uri": "https://localhost:8080/"
        },
        "id": "MDYucB4lJ_Kv",
        "outputId": "b791f44e-1517-4789-cdc7-02a7c81e7207"
      },
      "source": [
        "#Creating a Word Index\n",
        "word_index = tokenizer.word_index\n",
        "tot_words = len(word_index)\n",
        "print(\"Unique words : \", tot_words)"
      ],
      "execution_count": 19,
      "outputs": [
        {
          "output_type": "stream",
          "name": "stdout",
          "text": [
            "Unique words :  4172\n"
          ]
        }
      ]
    },
    {
      "cell_type": "code",
      "metadata": {
        "id": "MUnPkXQZKYh4"
      },
      "source": [
        "#sequencing and padding\n",
        "training_sequences = tokenizer.texts_to_sequences(train_msg)\n",
        "training_padded = pad_sequences (training_sequences, maxlen = max_len, padding = padding_type, truncating = trunc_type )\n",
        "\n",
        "testing_sequences = tokenizer.texts_to_sequences(test_msg)\n",
        "testing_padded = pad_sequences(testing_sequences, maxlen = max_len,padding = padding_type, truncating = trunc_type)"
      ],
      "execution_count": 20,
      "outputs": []
    },
    {
      "cell_type": "markdown",
      "metadata": {
        "id": "ncZqkD4zKqfA"
      },
      "source": [
        "### Dense Sequential Spam Detection Model"
      ]
    },
    {
      "cell_type": "code",
      "metadata": {
        "id": "NqsaUV4iKjct"
      },
      "source": [
        "vocab_size = 500 \n",
        "embeding_dim = 16\n",
        "drop_value = 0.2 \n",
        "n_dense = 24"
      ],
      "execution_count": 22,
      "outputs": []
    },
    {
      "cell_type": "code",
      "metadata": {
        "id": "ngUEYI4oKx8Y"
      },
      "source": [
        "model = Sequential()\n",
        "model.add(Embedding(vocab_size, embeding_dim, input_length=max_len))\n",
        "model.add(GlobalAveragePooling1D())\n",
        "model.add(Dense(24, activation='relu'))\n",
        "model.add(Dropout(drop_value))\n",
        "model.add(Dense(1, activation='sigmoid'))"
      ],
      "execution_count": 23,
      "outputs": []
    },
    {
      "cell_type": "code",
      "metadata": {
        "id": "LBNsnW-9K2Fk"
      },
      "source": [
        "model.compile(loss='binary_crossentropy',optimizer='adam' ,metrics=['accuracy'])"
      ],
      "execution_count": 24,
      "outputs": []
    },
    {
      "cell_type": "code",
      "metadata": {
        "id": "Vye2JA6MK7At"
      },
      "source": [
        "num_epochs = 30\n",
        "history = model.fit(training_padded, train_labels, epochs=num_epochs, validation_data=(testing_padded, test_labels), verbose=2)"
      ],
      "execution_count": null,
      "outputs": []
    },
    {
      "cell_type": "code",
      "metadata": {
        "colab": {
          "base_uri": "https://localhost:8080/"
        },
        "id": "HRkpMRy9K8i0",
        "outputId": "3c0b333b-1fa8-4154-8146-673b8b4f076a"
      },
      "source": [
        "model.evaluate(testing_padded, test_labels)"
      ],
      "execution_count": 27,
      "outputs": [
        {
          "output_type": "stream",
          "name": "stdout",
          "text": [
            "10/10 [==============================] - 0s 3ms/step - loss: 0.0823 - accuracy: 0.9732\n"
          ]
        },
        {
          "output_type": "execute_result",
          "data": {
            "text/plain": [
              "[0.08231183141469955, 0.9732441306114197]"
            ]
          },
          "metadata": {},
          "execution_count": 27
        }
      ]
    },
    {
      "cell_type": "code",
      "metadata": {
        "colab": {
          "base_uri": "https://localhost:8080/",
          "height": 295
        },
        "id": "4akJrRMILSzZ",
        "outputId": "e36bc6cd-0bd0-4734-c0e4-a0ca5e663692"
      },
      "source": [
        "metrics = pd.DataFrame(history.history)\n",
        "metrics.rename(columns = {'loss': 'Training_Loss', 'accuracy': 'Training_Accuracy', 'val_loss': 'Validation_Loss', 'val_accuracy': 'Validation_Accuracy'}, inplace = True)\n",
        "def plot_graphs1(var1, var2, string):\n",
        "    metrics[[var1, var2]].plot()\n",
        "    plt.title('Training and Validation ' + string)\n",
        "    plt.xlabel ('Number of epochs')\n",
        "    plt.ylabel(string)\n",
        "    plt.legend([var1, var2])\n",
        "plot_graphs1('Training_Loss', 'Validation_Loss', 'loss')"
      ],
      "execution_count": 29,
      "outputs": [
        {
          "output_type": "display_data",
          "data": {
            "image/png": "[encoded data removed]",
            "text/plain": [
              "<Figure size 432x288 with 1 Axes>"
            ]
          },
          "metadata": {
            "needs_background": "light"
          }
        }
      ]
    },
    {
      "cell_type": "markdown",
      "metadata": {
        "id": "Iy3EfLeoLMfM"
      },
      "source": [
        "### LSTM Model"
      ]
    },
    {
      "cell_type": "code",
      "metadata": {
        "id": "AM7K86ZtLGR0"
      },
      "source": [
        "#LSTM hyperparameters\n",
        "n_lstm = 20\n",
        "drop_lstm =0.2\n"
      ],
      "execution_count": 30,
      "outputs": []
    },
    {
      "cell_type": "code",
      "metadata": {
        "id": "QMUpowe0LgZ8"
      },
      "source": [
        "modellstm = Sequential()\n",
        "modellstm.add(Embedding(vocab_size, embeding_dim, input_length=max_len))\n",
        "modellstm.add(LSTM(n_lstm, dropout=drop_lstm, return_sequences=True))\n",
        "modellstm.add(LSTM(n_lstm, dropout=drop_lstm, return_sequences=True))\n",
        "modellstm.add(Dense(1, activation='sigmoid'))"
      ],
      "execution_count": 37,
      "outputs": []
    },
    {
      "cell_type": "code",
      "metadata": {
        "id": "SWs3s8dgLj3J"
      },
      "source": [
        "modellstm.compile(loss = 'binary_crossentropy', optimizer = 'adam', metrics=['accuracy'])"
      ],
      "execution_count": 40,
      "outputs": []
    },
    {
      "cell_type": "code",
      "metadata": {
        "colab": {
          "base_uri": "https://localhost:8080/"
        },
        "id": "X-K3g1oPLrGn",
        "outputId": "19390e04-6693-4f54-f92f-2b1378ca5396"
      },
      "source": [
        "num_epochs = 30\n",
        "history = modellstm.fit(training_padded, train_labels, epochs=num_epochs, validation_data=(testing_padded, test_labels), verbose=2)"
      ],
      "execution_count": 41,
      "outputs": [
        {
          "output_type": "stream",
          "name": "stdout",
          "text": [
            "Epoch 1/30\n",
            "38/38 - 6s - loss: 0.6814 - accuracy: 0.5843 - val_loss: 0.6171 - val_accuracy: 0.6857\n",
            "Epoch 2/30\n",
            "38/38 - 1s - loss: 0.4629 - accuracy: 0.7947 - val_loss: 0.3630 - val_accuracy: 0.8821\n",
            "Epoch 3/30\n",
            "38/38 - 1s - loss: 0.2783 - accuracy: 0.9131 - val_loss: 0.2178 - val_accuracy: 0.9415\n",
            "Epoch 4/30\n",
            "38/38 - 1s - loss: 0.2294 - accuracy: 0.9289 - val_loss: 0.2587 - val_accuracy: 0.9223\n",
            "Epoch 5/30\n",
            "38/38 - 1s - loss: 0.1867 - accuracy: 0.9422 - val_loss: 0.2286 - val_accuracy: 0.9308\n",
            "Epoch 6/30\n",
            "38/38 - 1s - loss: 0.1505 - accuracy: 0.9531 - val_loss: 0.2433 - val_accuracy: 0.9304\n",
            "Epoch 7/30\n",
            "38/38 - 1s - loss: 0.1472 - accuracy: 0.9539 - val_loss: 0.2319 - val_accuracy: 0.9340\n",
            "Epoch 8/30\n",
            "38/38 - 1s - loss: 0.1357 - accuracy: 0.9568 - val_loss: 0.2868 - val_accuracy: 0.9227\n",
            "Epoch 9/30\n",
            "38/38 - 1s - loss: 0.1368 - accuracy: 0.9536 - val_loss: 0.1846 - val_accuracy: 0.9416\n",
            "Epoch 10/30\n",
            "38/38 - 1s - loss: 0.1322 - accuracy: 0.9554 - val_loss: 0.2005 - val_accuracy: 0.9427\n",
            "Epoch 11/30\n",
            "38/38 - 1s - loss: 0.1342 - accuracy: 0.9548 - val_loss: 0.2085 - val_accuracy: 0.9400\n",
            "Epoch 12/30\n",
            "38/38 - 1s - loss: 0.1136 - accuracy: 0.9621 - val_loss: 0.2318 - val_accuracy: 0.9372\n",
            "Epoch 13/30\n",
            "38/38 - 1s - loss: 0.1179 - accuracy: 0.9604 - val_loss: 0.3084 - val_accuracy: 0.9264\n",
            "Epoch 14/30\n",
            "38/38 - 1s - loss: 0.1129 - accuracy: 0.9612 - val_loss: 0.2399 - val_accuracy: 0.9359\n",
            "Epoch 15/30\n",
            "38/38 - 1s - loss: 0.0981 - accuracy: 0.9673 - val_loss: 0.2110 - val_accuracy: 0.9404\n",
            "Epoch 16/30\n",
            "38/38 - 1s - loss: 0.0987 - accuracy: 0.9667 - val_loss: 0.2342 - val_accuracy: 0.9380\n",
            "Epoch 17/30\n",
            "38/38 - 1s - loss: 0.0984 - accuracy: 0.9664 - val_loss: 0.2298 - val_accuracy: 0.9410\n",
            "Epoch 18/30\n",
            "38/38 - 1s - loss: 0.0904 - accuracy: 0.9688 - val_loss: 0.2852 - val_accuracy: 0.9305\n",
            "Epoch 19/30\n",
            "38/38 - 1s - loss: 0.0948 - accuracy: 0.9663 - val_loss: 0.2380 - val_accuracy: 0.9393\n",
            "Epoch 20/30\n",
            "38/38 - 1s - loss: 0.0889 - accuracy: 0.9679 - val_loss: 0.2934 - val_accuracy: 0.9323\n",
            "Epoch 21/30\n",
            "38/38 - 1s - loss: 0.0915 - accuracy: 0.9683 - val_loss: 0.2169 - val_accuracy: 0.9404\n",
            "Epoch 22/30\n",
            "38/38 - 1s - loss: 0.0919 - accuracy: 0.9681 - val_loss: 0.2715 - val_accuracy: 0.9350\n",
            "Epoch 23/30\n",
            "38/38 - 1s - loss: 0.0836 - accuracy: 0.9706 - val_loss: 0.2844 - val_accuracy: 0.9342\n",
            "Epoch 24/30\n",
            "38/38 - 1s - loss: 0.0817 - accuracy: 0.9713 - val_loss: 0.2948 - val_accuracy: 0.9333\n",
            "Epoch 25/30\n",
            "38/38 - 1s - loss: 0.0854 - accuracy: 0.9697 - val_loss: 0.2885 - val_accuracy: 0.9314\n",
            "Epoch 26/30\n",
            "38/38 - 1s - loss: 0.0790 - accuracy: 0.9705 - val_loss: 0.3633 - val_accuracy: 0.9233\n",
            "Epoch 27/30\n",
            "38/38 - 1s - loss: 0.0751 - accuracy: 0.9716 - val_loss: 0.3321 - val_accuracy: 0.9270\n",
            "Epoch 28/30\n",
            "38/38 - 1s - loss: 0.0702 - accuracy: 0.9729 - val_loss: 0.4076 - val_accuracy: 0.9200\n",
            "Epoch 29/30\n",
            "38/38 - 1s - loss: 0.0866 - accuracy: 0.9688 - val_loss: 0.2265 - val_accuracy: 0.9401\n",
            "Epoch 30/30\n",
            "38/38 - 1s - loss: 0.1367 - accuracy: 0.9490 - val_loss: 0.2338 - val_accuracy: 0.9359\n"
          ]
        }
      ]
    },
    {
      "cell_type": "code",
      "metadata": {
        "colab": {
          "base_uri": "https://localhost:8080/"
        },
        "id": "lm4xBrBOLx9W",
        "outputId": "1181807c-ee24-476e-d075-52951db04ef7"
      },
      "source": [
        "modellstm.evaluate(testing_padded, test_labels)"
      ],
      "execution_count": 42,
      "outputs": [
        {
          "output_type": "stream",
          "name": "stdout",
          "text": [
            "10/10 [==============================] - 0s 10ms/step - loss: 0.2338 - accuracy: 0.9359\n"
          ]
        },
        {
          "output_type": "execute_result",
          "data": {
            "text/plain": [
              "[0.23381838202476501, 0.9359197020530701]"
            ]
          },
          "metadata": {},
          "execution_count": 42
        }
      ]
    },
    {
      "cell_type": "code",
      "metadata": {
        "colab": {
          "base_uri": "https://localhost:8080/",
          "height": 295
        },
        "id": "EEv8QSWgQQcv",
        "outputId": "d4d8168f-1f44-4803-c801-87edf9ec4aa3"
      },
      "source": [
        "\n",
        "metrics = pd.DataFrame(history.history)\n",
        "metrics.rename(columns = {'loss': 'Training_Loss', 'accuracy': 'Training_Accuracy',\n",
        "                         'val_loss': 'Validation_Loss', 'val_accuracy': 'Validation_Accuracy'}, inplace = True)\n",
        "def plot_graphs1(var1, var2, string):\n",
        "    metrics[[var1, var2]].plot()\n",
        "    plt.title('LSTM Model: Training and Validation ' + string)\n",
        "    plt.xlabel ('Number of epochs')\n",
        "    plt.ylabel(string)\n",
        "    plt.legend([var1, var2])\n",
        "plot_graphs1('Training_Loss', 'Validation_Loss', 'loss')"
      ],
      "execution_count": 43,
      "outputs": [
        {
          "output_type": "display_data",
          "data": {
            "image/png": "[encoded data removed]",
            "text/plain": [
              "<Figure size 432x288 with 1 Axes>"
            ]
          },
          "metadata": {
            "needs_background": "light"
          }
        }
      ]
    },
    {
      "cell_type": "markdown",
      "metadata": {
        "id": "QAcrn7tAQeqs"
      },
      "source": [
        "### Bi-directional LSTM"
      ]
    },
    {
      "cell_type": "code",
      "metadata": {
        "id": "8aiaIDj2QbgL"
      },
      "source": [
        "modelbl = Sequential()\n",
        "modelbl.add(Embedding(vocab_size, embeding_dim, input_length=max_len))\n",
        "modelbl.add(Bidirectional(LSTM(n_lstm, dropout=drop_lstm, return_sequences=True)))\n",
        "modelbl.add(Dense(1, activation='sigmoid'))"
      ],
      "execution_count": 44,
      "outputs": []
    },
    {
      "cell_type": "code",
      "metadata": {
        "id": "HTOOd8kGQpeP"
      },
      "source": [
        "modelbl.compile(loss = 'binary_crossentropy', optimizer = 'adam', metrics=['accuracy'])"
      ],
      "execution_count": 45,
      "outputs": []
    },
    {
      "cell_type": "code",
      "metadata": {
        "colab": {
          "base_uri": "https://localhost:8080/"
        },
        "id": "7ZKPAykEQsbD",
        "outputId": "83535d85-3dc5-4262-8596-05695d746082"
      },
      "source": [
        "num_epochs = 30\n",
        "history = modelbl.fit(training_padded, train_labels, epochs=num_epochs, \n",
        "                    validation_data=(testing_padded, test_labels), verbose=2)"
      ],
      "execution_count": 47,
      "outputs": [
        {
          "output_type": "stream",
          "name": "stdout",
          "text": [
            "Epoch 1/30\n",
            "38/38 - 6s - loss: 0.6761 - accuracy: 0.6147 - val_loss: 0.6058 - val_accuracy: 0.6973\n",
            "Epoch 2/30\n",
            "38/38 - 1s - loss: 0.4340 - accuracy: 0.8550 - val_loss: 0.2570 - val_accuracy: 0.9445\n",
            "Epoch 3/30\n",
            "38/38 - 1s - loss: 0.2545 - accuracy: 0.9216 - val_loss: 0.1847 - val_accuracy: 0.9498\n",
            "Epoch 4/30\n",
            "38/38 - 1s - loss: 0.1860 - accuracy: 0.9422 - val_loss: 0.1575 - val_accuracy: 0.9620\n",
            "Epoch 5/30\n",
            "38/38 - 1s - loss: 0.1497 - accuracy: 0.9554 - val_loss: 0.1363 - val_accuracy: 0.9643\n",
            "Epoch 6/30\n",
            "38/38 - 1s - loss: 0.1425 - accuracy: 0.9578 - val_loss: 0.1376 - val_accuracy: 0.9680\n",
            "Epoch 7/30\n",
            "38/38 - 1s - loss: 0.1110 - accuracy: 0.9688 - val_loss: 0.1301 - val_accuracy: 0.9680\n",
            "Epoch 8/30\n",
            "38/38 - 1s - loss: 0.1003 - accuracy: 0.9738 - val_loss: 0.1903 - val_accuracy: 0.9535\n",
            "Epoch 9/30\n",
            "38/38 - 1s - loss: 0.0981 - accuracy: 0.9744 - val_loss: 0.1395 - val_accuracy: 0.9663\n",
            "Epoch 10/30\n",
            "38/38 - 1s - loss: 0.0822 - accuracy: 0.9797 - val_loss: 0.1299 - val_accuracy: 0.9677\n",
            "Epoch 11/30\n",
            "38/38 - 1s - loss: 0.0766 - accuracy: 0.9811 - val_loss: 0.1546 - val_accuracy: 0.9643\n",
            "Epoch 12/30\n",
            "38/38 - 1s - loss: 0.0701 - accuracy: 0.9827 - val_loss: 0.1437 - val_accuracy: 0.9677\n",
            "Epoch 13/30\n",
            "38/38 - 1s - loss: 0.0628 - accuracy: 0.9862 - val_loss: 0.1533 - val_accuracy: 0.9654\n",
            "Epoch 14/30\n",
            "38/38 - 1s - loss: 0.0628 - accuracy: 0.9847 - val_loss: 0.1783 - val_accuracy: 0.9604\n",
            "Epoch 15/30\n",
            "38/38 - 1s - loss: 0.0569 - accuracy: 0.9861 - val_loss: 0.1714 - val_accuracy: 0.9631\n",
            "Epoch 16/30\n",
            "38/38 - 1s - loss: 0.0715 - accuracy: 0.9817 - val_loss: 0.1252 - val_accuracy: 0.9702\n",
            "Epoch 17/30\n",
            "38/38 - 1s - loss: 0.0598 - accuracy: 0.9851 - val_loss: 0.1842 - val_accuracy: 0.9607\n",
            "Epoch 18/30\n",
            "38/38 - 1s - loss: 0.0511 - accuracy: 0.9881 - val_loss: 0.1752 - val_accuracy: 0.9618\n",
            "Epoch 19/30\n",
            "38/38 - 1s - loss: 0.0430 - accuracy: 0.9906 - val_loss: 0.1685 - val_accuracy: 0.9630\n",
            "Epoch 20/30\n",
            "38/38 - 1s - loss: 0.0407 - accuracy: 0.9911 - val_loss: 0.1383 - val_accuracy: 0.9643\n",
            "Epoch 21/30\n",
            "38/38 - 1s - loss: 0.0464 - accuracy: 0.9891 - val_loss: 0.1467 - val_accuracy: 0.9632\n",
            "Epoch 22/30\n",
            "38/38 - 1s - loss: 0.0597 - accuracy: 0.9883 - val_loss: 0.2861 - val_accuracy: 0.9443\n",
            "Epoch 23/30\n",
            "38/38 - 1s - loss: 0.0560 - accuracy: 0.9873 - val_loss: 0.2291 - val_accuracy: 0.9484\n",
            "Epoch 24/30\n",
            "38/38 - 1s - loss: 0.0387 - accuracy: 0.9917 - val_loss: 0.1420 - val_accuracy: 0.9649\n",
            "Epoch 25/30\n",
            "38/38 - 1s - loss: 0.0490 - accuracy: 0.9881 - val_loss: 0.1445 - val_accuracy: 0.9656\n",
            "Epoch 26/30\n",
            "38/38 - 1s - loss: 0.0335 - accuracy: 0.9927 - val_loss: 0.2363 - val_accuracy: 0.9513\n",
            "Epoch 27/30\n",
            "38/38 - 1s - loss: 0.0333 - accuracy: 0.9936 - val_loss: 0.1764 - val_accuracy: 0.9578\n",
            "Epoch 28/30\n",
            "38/38 - 1s - loss: 0.0340 - accuracy: 0.9928 - val_loss: 0.1555 - val_accuracy: 0.9634\n",
            "Epoch 29/30\n",
            "38/38 - 1s - loss: 0.0327 - accuracy: 0.9936 - val_loss: 0.1553 - val_accuracy: 0.9640\n",
            "Epoch 30/30\n",
            "38/38 - 1s - loss: 0.0304 - accuracy: 0.9946 - val_loss: 0.1555 - val_accuracy: 0.9637\n"
          ]
        }
      ]
    },
    {
      "cell_type": "code",
      "metadata": {
        "colab": {
          "base_uri": "https://localhost:8080/",
          "height": 295
        },
        "id": "F_Wkse8HQwwu",
        "outputId": "f0af1d2d-76d5-4b55-d713-5c94628bbee0"
      },
      "source": [
        "metrics = pd.DataFrame(history.history)\n",
        "# Rename column\n",
        "metrics.rename(columns = {'loss': 'Training_Loss', 'accuracy': 'Training_Accuracy',\n",
        "                         'val_loss': 'Validation_Loss', 'val_accuracy': 'Validation_Accuracy'}, inplace = True)\n",
        "def plot_graphs1(var1, var2, string):\n",
        "    metrics[[var1, var2]].plot()\n",
        "    plt.title('BiLSTM Model: Training and Validation ' + string)\n",
        "    plt.xlabel ('Number of epochs')\n",
        "    plt.ylabel(string)\n",
        "    plt.legend([var1, var2])\n",
        "# Plot\n",
        "plot_graphs1('Training_Loss', 'Validation_Loss', 'loss')"
      ],
      "execution_count": 48,
      "outputs": [
        {
          "output_type": "display_data",
          "data": {
            "image/png": "[encoded data removed]",
            "text/plain": [
              "<Figure size 432x288 with 1 Axes>"
            ]
          },
          "metadata": {
            "needs_background": "light"
          }
        }
      ]
    },
    {
      "cell_type": "markdown",
      "metadata": {
        "id": "Ewv2IaRhRDo0"
      },
      "source": [
        "### Analysis of the three models"
      ]
    },
    {
      "cell_type": "code",
      "metadata": {
        "colab": {
          "base_uri": "https://localhost:8080/"
        },
        "id": "1Eu3pdupQ_e4",
        "outputId": "8ccf44bc-b6a3-40d2-a000-ae44ea02eec0"
      },
      "source": [
        "print(f\"Dense architecture loss and accuracy: {model.evaluate(testing_padded, test_labels)} \" )\n",
        "print(f\"LSTM architecture loss and accuracy: {modellstm.evaluate(testing_padded, test_labels)} \" )\n",
        "print(f\"Bi-LSTM architecture loss and accuracy: {modelbl.evaluate(testing_padded, test_labels)} \" )"
      ],
      "execution_count": 49,
      "outputs": [
        {
          "output_type": "stream",
          "name": "stdout",
          "text": [
            "10/10 [==============================] - 0s 3ms/step - loss: 0.0823 - accuracy: 0.9732\n",
            "Dense architecture loss and accuracy: [0.08231183141469955, 0.9732441306114197] \n",
            "10/10 [==============================] - 0s 10ms/step - loss: 0.2338 - accuracy: 0.9359\n",
            "LSTM architecture loss and accuracy: [0.23381838202476501, 0.9359197020530701] \n",
            "10/10 [==============================] - 0s 10ms/step - loss: 0.1555 - accuracy: 0.9637\n",
            "Bi-LSTM architecture loss and accuracy: [0.1554940789937973, 0.9637458324432373] \n"
          ]
        }
      ]
    },
    {
      "cell_type": "code",
      "metadata": {
        "colab": {
          "base_uri": "https://localhost:8080/"
        },
        "id": "9ggCGSKnRJBe",
        "outputId": "36acda88-817a-4e9e-c689-4d3a08114eea"
      },
      "source": [
        "random_test=[\"Hey, I'm at the store, do you want something?\",\n",
        "            \"Get free entry into the FA Cup final, offer stands only for 3 days, hurry up!!\",\n",
        "             \"Buy 1 get 2 Free with Big Bonanza Offer @ R2D2 Mall today only or at 50% Discount, offer valid until stocks last\"]\n",
        "def predict_spam(predict_msg):\n",
        "    new_seq = tokenizer.texts_to_sequences(predict_msg)\n",
        "    padded = pad_sequences(new_seq, maxlen =max_len,\n",
        "                      padding = padding_type,\n",
        "                      truncating=trunc_type)\n",
        "    return (model.predict(padded))\n",
        "predict_spam(random_test)"
      ],
      "execution_count": 55,
      "outputs": [
        {
          "output_type": "execute_result",
          "data": {
            "text/plain": [
              "array([[0.00258368],\n",
              "       [0.3501888 ],\n",
              "       [0.9961026 ]], dtype=float32)"
            ]
          },
          "metadata": {},
          "execution_count": 55
        }
      ]
    },
    {
      "cell_type": "code",
      "metadata": {
        "id": "0-qcfE1xRl9b"
      },
      "source": [
        ""
      ],
      "execution_count": null,
      "outputs": []
    }
  ]
}